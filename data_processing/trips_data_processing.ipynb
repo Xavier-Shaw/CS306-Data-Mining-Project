{
 "cells": [
  {
   "cell_type": "code",
   "execution_count": null,
   "metadata": {
    "collapsed": true,
    "pycharm": {
     "name": "#%%\n"
    }
   },
   "outputs": [],
   "source": [
    "import numpy as np\n",
    "import pandas as pd\n",
    "import json"
   ]
  },
  {
   "cell_type": "code",
   "execution_count": null,
   "outputs": [],
   "source": [
    "df = pd.read_csv(\"sample_taxi.csv\")\n",
    "df"
   ],
   "metadata": {
    "collapsed": false,
    "pycharm": {
     "name": "#%%\n"
    }
   }
  },
  {
   "cell_type": "markdown",
   "source": [
    "The latitude range of Shenzhen:\n",
    "22°27'N ~ 22°52'N\n",
    "The longitude range of Shenzhen:\n",
    "113°46'E ~ 114°37'E"
   ],
   "metadata": {
    "collapsed": false,
    "pycharm": {
     "name": "#%% md\n"
    }
   }
  },
  {
   "cell_type": "code",
   "execution_count": null,
   "outputs": [],
   "source": [
    "df_illegal_lon = df[(~df[\"lon\"].between(73, 135)) | (~df[\"lat\"].between(3, 50))]\n",
    "df_illegal_lon"
   ],
   "metadata": {
    "collapsed": false,
    "pycharm": {
     "name": "#%%\n"
    }
   }
  },
  {
   "cell_type": "code",
   "execution_count": null,
   "outputs": [],
   "source": [
    "def time_to_sec(time_str):\n",
    "    h, m, s = map(int, time_str.split(':'))\n",
    "    return h * 3600 + m * 60 + s"
   ],
   "metadata": {
    "collapsed": false,
    "pycharm": {
     "name": "#%%\n"
    }
   }
  },
  {
   "cell_type": "code",
   "execution_count": null,
   "outputs": [],
   "source": [
    "df = df[df[\"lat\"].between(3, 50) & df[\"lon\"].between(73, 135)]\n",
    "df.loc[:, 'total_seconds'] = df['time'].apply(time_to_sec)\n",
    "df"
   ],
   "metadata": {
    "collapsed": false,
    "pycharm": {
     "name": "#%%\n"
    }
   }
  },
  {
   "cell_type": "code",
   "execution_count": null,
   "outputs": [],
   "source": [
    "df_with_passenger = df[df[\"is_passenger\"] == 1]\n",
    "df_without_passenger = df[df[\"is_passenger\"] == 0]"
   ],
   "metadata": {
    "collapsed": false,
    "pycharm": {
     "name": "#%%\n"
    }
   }
  },
  {
   "cell_type": "code",
   "execution_count": null,
   "outputs": [],
   "source": [
    "# Sort DataFrame by 'total_seconds' column\n",
    "df_sorted_with_passenger = df_with_passenger.sort_values('total_seconds')\n",
    "df_sorted_without_passenger = df_without_passenger.sort_values('total_seconds')"
   ],
   "metadata": {
    "collapsed": false,
    "pycharm": {
     "name": "#%%\n"
    }
   }
  },
  {
   "cell_type": "code",
   "execution_count": null,
   "outputs": [],
   "source": [
    "# Group DataFrame by 'taxi_id' and convert to array of dictionaries\n",
    "grouped_data_with_passenger = df_sorted_with_passenger.groupby('taxi_id').apply(lambda x: {\n",
    "    'taxi_id': x['taxi_id'].iloc[0],\n",
    "    'path': x[['lon', 'lat']].values.tolist(),\n",
    "    'passenger': x['is_passenger'].iloc[0],\n",
    "    'timestamps': x['total_seconds'].values.tolist()\n",
    "}).values\n",
    "\n",
    "grouped_data_without_passenger = df_sorted_without_passenger.groupby('taxi_id').apply(lambda x: {\n",
    "    'taxi_id': x['taxi_id'].iloc[0],\n",
    "    'path': x[['lon', 'lat']].values.tolist(),\n",
    "    'passenger': x['is_passenger'].iloc[0],\n",
    "    'timestamps': x['total_seconds'].values.tolist()\n",
    "}).values"
   ],
   "metadata": {
    "collapsed": false,
    "pycharm": {
     "name": "#%%\n"
    }
   }
  },
  {
   "cell_type": "code",
   "execution_count": null,
   "outputs": [],
   "source": [
    "grouped_data = np.hstack((grouped_data_with_passenger, grouped_data_without_passenger))"
   ],
   "metadata": {
    "collapsed": false,
    "pycharm": {
     "name": "#%%\n"
    }
   }
  },
  {
   "cell_type": "code",
   "execution_count": null,
   "outputs": [],
   "source": [
    "class NpEncoder(json.JSONEncoder):\n",
    "    def default(self, obj):\n",
    "        if isinstance(obj, np.integer):\n",
    "            return int(obj)\n",
    "        if isinstance(obj, np.floating):\n",
    "            return float(obj)\n",
    "        if isinstance(obj, np.ndarray):\n",
    "            return obj.tolist()\n",
    "        if isinstance(obj, np.bool_):\n",
    "            return bool(obj)\n",
    "        return super(NpEncoder, self).default(obj)\n",
    "\n",
    "\n",
    "# Define the output file path\n",
    "output_file = 'taxi_trips.json'\n",
    "\n",
    "# Convert the grouped_data_serializable array to JSON format\n",
    "json_data = json.dumps(grouped_data, cls=NpEncoder)\n",
    "\n",
    "# Write the JSON data to the output file\n",
    "with open(output_file, 'w') as file:\n",
    "    file.write(json_data)\n",
    "\n",
    "# Print a confirmation message\n",
    "print(f\"Data successfully written to '{output_file}'.\")"
   ],
   "metadata": {
    "collapsed": false,
    "pycharm": {
     "name": "#%%\n"
    }
   }
  },
  {
   "cell_type": "code",
   "execution_count": null,
   "outputs": [],
   "source": [],
   "metadata": {
    "collapsed": false,
    "pycharm": {
     "name": "#%%\n"
    }
   }
  }
 ],
 "metadata": {
  "kernelspec": {
   "display_name": "Python 3",
   "language": "python",
   "name": "python3"
  },
  "language_info": {
   "codemirror_mode": {
    "name": "ipython",
    "version": 2
   },
   "file_extension": ".py",
   "mimetype": "text/x-python",
   "name": "python",
   "nbconvert_exporter": "python",
   "pygments_lexer": "ipython2",
   "version": "2.7.6"
  }
 },
 "nbformat": 4,
 "nbformat_minor": 0
}