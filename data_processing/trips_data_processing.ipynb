{
 "cells": [
  {
   "cell_type": "code",
   "execution_count": null,
   "metadata": {
    "collapsed": true,
    "pycharm": {
     "name": "#%%\n"
    }
   },
   "outputs": [],
   "source": [
    "import numpy as np\n",
    "import pandas as pd\n",
    "import json"
   ]
  },
  {
   "cell_type": "code",
   "execution_count": null,
   "outputs": [],
   "source": [
    "df = pd.read_csv(\"sample_taxi.csv\")\n",
    "df"
   ],
   "metadata": {
    "collapsed": false,
    "pycharm": {
     "name": "#%%\n"
    }
   }
  },
  {
   "cell_type": "markdown",
   "source": [
    "The latitude range of Shenzhen:\n",
    "22°27'N ~ 22°52'N\n",
    "The longitude range of Shenzhen:\n",
    "113°46'E ~ 114°37'E"
   ],
   "metadata": {
    "collapsed": false,
    "pycharm": {
     "name": "#%% md\n"
    }
   }
  },
  {
   "cell_type": "code",
   "execution_count": null,
   "outputs": [],
   "source": [
    "df_illegal_lon = df[(~df[\"lon\"].between(73, 135)) | (~df[\"lat\"].between(3, 50))]\n",
    "df_illegal_lon"
   ],
   "metadata": {
    "collapsed": false,
    "pycharm": {
     "name": "#%%\n"
    }
   }
  },
  {
   "cell_type": "code",
   "execution_count": null,
   "outputs": [],
   "source": [
    "def time_to_sec(time_str):\n",
    "    h, m, s = map(int, time_str.split(':'))\n",
    "    return h * 3600 + m * 60 + s"
   ],
   "metadata": {
    "collapsed": false,
    "pycharm": {
     "name": "#%%\n"
    }
   }
  },
  {
   "cell_type": "code",
   "execution_count": null,
   "outputs": [],
   "source": [
    "df = df[df[\"lat\"].between(3, 50) & df[\"lon\"].between(73, 135)]\n",
    "df.loc[:, 'total_seconds'] = df['time'].apply(time_to_sec)\n",
    "df"
   ],
   "metadata": {
    "collapsed": false,
    "pycharm": {
     "name": "#%%\n"
    }
   }
  },
  {
   "cell_type": "code",
   "execution_count": null,
   "outputs": [],
   "source": [
    "df_sorted = df.sort_values(['taxi_id', 'total_seconds'])\n",
    "df_sorted"
   ],
   "metadata": {
    "collapsed": false,
    "pycharm": {
     "name": "#%%\n"
    }
   }
  },
  {
   "cell_type": "markdown",
   "source": [
    "清除载客状态与前后时间点均不同的数据 （e.g. 1110111 -> 111111)"
   ],
   "metadata": {
    "collapsed": false,
    "pycharm": {
     "name": "#%% md\n"
    }
   }
  },
  {
   "cell_type": "code",
   "execution_count": null,
   "outputs": [],
   "source": [
    "passenger_cond1 = df_sorted['is_passenger'] != df_sorted['is_passenger'].shift(1)\n",
    "passenger_cond2 = df_sorted['is_passenger'] != df_sorted['is_passenger'].shift(-1)\n",
    "passenger_cond3 = df_sorted['taxi_id'] == df_sorted['taxi_id'].shift(1)\n",
    "passenger_cond4 = df_sorted['taxi_id'] == df_sorted['taxi_id'].shift(-1)\n",
    "\n",
    "# 标记异常数据\n",
    "passenger_cond = passenger_cond1 & passenger_cond2 & passenger_cond3 & passenger_cond4\n",
    "df_sorted = df_sorted[~passenger_cond]\n",
    "df_sorted"
   ],
   "metadata": {
    "collapsed": false,
    "pycharm": {
     "name": "#%%\n"
    }
   }
  },
  {
   "cell_type": "code",
   "execution_count": null,
   "outputs": [],
   "source": [
    "from math import radians, sin, cos, sqrt, atan2\n",
    "\n",
    "# Function to calculate the distance between two points using the Haversine formula\n",
    "def calculate_distance_reasonable(id1, lat1, lon1, time1, id2, lat2, lon2, time2):\n",
    "    R = 6371.0  # Earth's radius in kilometers\n",
    "\n",
    "    if id1 != id2: return True\n",
    "\n",
    "    time_delta = abs(time2 - time1)\n",
    "\n",
    "    lat1_rad = radians(float(lat1))\n",
    "    lon1_rad = radians(float(lon1))\n",
    "    lat2_rad = radians(float(lat2))\n",
    "    lon2_rad = radians(float(lon2))\n",
    "\n",
    "    dlon = lon2_rad - lon1_rad\n",
    "    dlat = lat2_rad - lat1_rad\n",
    "\n",
    "    a = sin(dlat / 2)**2 + cos(lat1_rad) * cos(lat2_rad) * sin(dlon / 2)**2\n",
    "    c = 2 * atan2(sqrt(a), sqrt(1 - a))\n",
    "\n",
    "    distance = R * c\n",
    "\n",
    "    reasonable = (distance / time_delta * 3600) <= 120\n",
    "    return reasonable"
   ],
   "metadata": {
    "collapsed": false,
    "pycharm": {
     "name": "#%%\n"
    }
   }
  },
  {
   "cell_type": "code",
   "execution_count": null,
   "outputs": [],
   "source": [
    "# Calculate the distance between consecutive points and validate\n",
    "df_sorted_shift = df_sorted.shift(1)\n",
    "df_sorted['reasonable'] = df_sorted.apply(lambda row: calculate_distance_reasonable(row[\"taxi_id\"], row['lat'], row['lon'], row[\"total_seconds\"], df_sorted_shift['taxi_id'].loc[row.name], df_sorted_shift['lat'].loc[row.name], df_sorted_shift['lon'].loc[row.name], df_sorted_shift['total_seconds'].loc[row.name]), axis=1)"
   ],
   "metadata": {
    "collapsed": false,
    "pycharm": {
     "name": "#%%\n"
    }
   }
  },
  {
   "cell_type": "code",
   "execution_count": null,
   "outputs": [],
   "source": [
    "# reasonable_distance_min = 0  # Replace with your expected minimum distance\n",
    "# reasonable_distance_max = 1  # Replace with your expected maximum distance\n",
    "\n",
    "# Filter out the data points that are not reasonable\n",
    "# cleaned_df = df_sorted[df_sorted['distance'].between(reasonable_distance_min, reasonable_distance_max) & passenger_cond3 & passenger_cond4]\n",
    "cleaned_df = df_sorted[df_sorted['reasonable']]\n",
    "cleaned_df"
   ],
   "metadata": {
    "collapsed": false,
    "pycharm": {
     "name": "#%%\n"
    }
   }
  },
  {
   "cell_type": "code",
   "execution_count": null,
   "outputs": [],
   "source": [
    "df = cleaned_df\n",
    "df.to_csv(\"./output.csv\")"
   ],
   "metadata": {
    "collapsed": false,
    "pycharm": {
     "name": "#%%\n"
    }
   }
  },
  {
   "cell_type": "code",
   "execution_count": null,
   "outputs": [],
   "source": [
    "df_with_passenger = df[df[\"is_passenger\"] == 1]\n",
    "df_without_passenger = df[df[\"is_passenger\"] == 0]"
   ],
   "metadata": {
    "collapsed": false,
    "pycharm": {
     "name": "#%%\n"
    }
   }
  },
  {
   "cell_type": "code",
   "execution_count": null,
   "outputs": [],
   "source": [
    "# Sort DataFrame by 'total_seconds' column\n",
    "df_sorted_with_passenger = df_with_passenger.sort_values('total_seconds')\n",
    "df_sorted_without_passenger = df_without_passenger.sort_values('total_seconds')"
   ],
   "metadata": {
    "collapsed": false,
    "pycharm": {
     "name": "#%%\n"
    }
   }
  },
  {
   "cell_type": "code",
   "execution_count": null,
   "outputs": [],
   "source": [
    "df_sorted_with_passenger"
   ],
   "metadata": {
    "collapsed": false,
    "pycharm": {
     "name": "#%%\n"
    }
   }
  },
  {
   "cell_type": "code",
   "execution_count": null,
   "outputs": [],
   "source": [
    "# Group DataFrame by 'taxi_id' and convert to array of dictionaries\n",
    "grouped_data_with_passenger = df_sorted_with_passenger.groupby('taxi_id').apply(lambda x: {\n",
    "    'taxi_id': x['taxi_id'].iloc[0],\n",
    "    'path': x[['lon', 'lat']].values.tolist(),\n",
    "    'passenger': x['is_passenger'].iloc[0],\n",
    "    'timestamps': x['total_seconds'].values.tolist()\n",
    "}).values\n",
    "\n",
    "grouped_data_without_passenger = df_sorted_without_passenger.groupby('taxi_id').apply(lambda x: {\n",
    "    'taxi_id': x['taxi_id'].iloc[0],\n",
    "    'path': x[['lon', 'lat']].values.tolist(),\n",
    "    'passenger': x['is_passenger'].iloc[0],\n",
    "    'timestamps': x['total_seconds'].values.tolist()\n",
    "}).values"
   ],
   "metadata": {
    "collapsed": false,
    "pycharm": {
     "name": "#%%\n"
    }
   }
  },
  {
   "cell_type": "code",
   "execution_count": null,
   "outputs": [],
   "source": [
    "grouped_data = np.hstack((grouped_data_with_passenger, grouped_data_without_passenger))"
   ],
   "metadata": {
    "collapsed": false,
    "pycharm": {
     "name": "#%%\n"
    }
   }
  },
  {
   "cell_type": "code",
   "execution_count": null,
   "outputs": [],
   "source": [
    "class NpEncoder(json.JSONEncoder):\n",
    "    def default(self, obj):\n",
    "        if isinstance(obj, np.integer):\n",
    "            return int(obj)\n",
    "        if isinstance(obj, np.floating):\n",
    "            return float(obj)\n",
    "        if isinstance(obj, np.ndarray):\n",
    "            return obj.tolist()\n",
    "        if isinstance(obj, np.bool_):\n",
    "            return bool(obj)\n",
    "        return super(NpEncoder, self).default(obj)\n",
    "\n",
    "\n",
    "# Define the output file path\n",
    "output_file = 'taxi_trips.json'\n",
    "\n",
    "# Convert the grouped_data_serializable array to JSON format\n",
    "json_data = json.dumps(grouped_data, cls=NpEncoder)\n",
    "\n",
    "# Write the JSON data to the output file\n",
    "with open(output_file, 'w') as file:\n",
    "    file.write(json_data)\n",
    "\n",
    "# Print a confirmation message\n",
    "print(f\"Data successfully written to '{output_file}'.\")"
   ],
   "metadata": {
    "collapsed": false,
    "pycharm": {
     "name": "#%%\n"
    }
   }
  },
  {
   "cell_type": "code",
   "execution_count": null,
   "outputs": [],
   "source": [],
   "metadata": {
    "collapsed": false,
    "pycharm": {
     "name": "#%%\n"
    }
   }
  }
 ],
 "metadata": {
  "kernelspec": {
   "display_name": "Python 3",
   "language": "python",
   "name": "python3"
  },
  "language_info": {
   "codemirror_mode": {
    "name": "ipython",
    "version": 2
   },
   "file_extension": ".py",
   "mimetype": "text/x-python",
   "name": "python",
   "nbconvert_exporter": "python",
   "pygments_lexer": "ipython2",
   "version": "2.7.6"
  }
 },
 "nbformat": 4,
 "nbformat_minor": 0
}