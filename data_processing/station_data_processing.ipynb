{
 "cells": [
  {
   "cell_type": "code",
   "execution_count": null,
   "metadata": {
    "collapsed": true,
    "pycharm": {
     "name": "#%%\n"
    }
   },
   "outputs": [],
   "source": [
    "import numpy as np\n",
    "import pandas as pd\n",
    "import json"
   ]
  },
  {
   "cell_type": "code",
   "execution_count": null,
   "outputs": [],
   "source": [
    "df_metro = pd.read_csv(\"深圳公交地铁/深圳市地铁站点.csv\")\n",
    "df_metro"
   ],
   "metadata": {
    "collapsed": false,
    "pycharm": {
     "name": "#%%\n"
    }
   }
  },
  {
   "cell_type": "code",
   "execution_count": null,
   "outputs": [],
   "source": [
    "grouped_data_metro = df_metro.groupby('name').apply(lambda x: {\n",
    "    'polygon': [x[['wgs84_lng', 'wgs84_lat']].iloc[0]],\n",
    "    'name': x['name'].iloc[0],\n",
    "    'lines': list(set(x['line_name'].values.tolist())),\n",
    "    'type': 'metro_station'\n",
    "}).values\n",
    "\n",
    "grouped_data_metro"
   ],
   "metadata": {
    "collapsed": false,
    "pycharm": {
     "name": "#%%\n"
    }
   }
  },
  {
   "cell_type": "code",
   "execution_count": null,
   "outputs": [],
   "source": [
    "df_bus = pd.read_excel(\"深圳公交地铁/深圳市公交站点.xlsx\", sheet_name=\"深圳市公交站点\")\n",
    "df_bus"
   ],
   "metadata": {
    "collapsed": false,
    "pycharm": {
     "name": "#%%\n"
    }
   }
  },
  {
   "cell_type": "code",
   "execution_count": null,
   "outputs": [],
   "source": [
    "grouped_data_bus = df_bus.groupby('name').apply(lambda x: {\n",
    "    'name': x['name'].iloc[0],\n",
    "    'polygon': [x[['wgs84_lng', 'wgs84_lat']].iloc[0]],\n",
    "    'lines': list(set(x['line_names'].values.tolist())),\n",
    "    'type': 'bus_station'\n",
    "}).values\n",
    "\n",
    "grouped_data_bus"
   ],
   "metadata": {
    "collapsed": false,
    "pycharm": {
     "name": "#%%\n"
    }
   }
  },
  {
   "cell_type": "code",
   "execution_count": null,
   "outputs": [],
   "source": [
    "grouped_data = np.hstack((grouped_data_metro, grouped_data_bus))"
   ],
   "metadata": {
    "collapsed": false,
    "pycharm": {
     "name": "#%%\n"
    }
   }
  },
  {
   "cell_type": "code",
   "execution_count": null,
   "outputs": [],
   "source": [
    "class NpEncoder(json.JSONEncoder):\n",
    "    def default(self, obj):\n",
    "        if isinstance(obj, np.integer):\n",
    "            return int(obj)\n",
    "        if isinstance(obj, np.floating):\n",
    "            return float(obj)\n",
    "        if isinstance(obj, np.ndarray):\n",
    "            return obj.tolist()\n",
    "        if isinstance(obj, np.bool_):\n",
    "            return bool(obj)\n",
    "        if isinstance(obj, pd.Series):\n",
    "            return obj.tolist()\n",
    "        return super(NpEncoder, self).default(obj)\n",
    "\n",
    "\n",
    "# Define the output file path\n",
    "output_file = 'stations.json'\n",
    "\n",
    "# Convert the grouped_data_serializable array to JSON format\n",
    "json_data = json.dumps(grouped_data, cls=NpEncoder)\n",
    "\n",
    "# Write the JSON data to the output file\n",
    "with open(output_file, 'w') as file:\n",
    "    file.write(json_data)\n",
    "\n",
    "# Print a confirmation message\n",
    "print(f\"Data successfully written to '{output_file}'.\")"
   ],
   "metadata": {
    "collapsed": false,
    "pycharm": {
     "name": "#%%\n"
    }
   }
  },
  {
   "cell_type": "code",
   "execution_count": null,
   "outputs": [],
   "source": [],
   "metadata": {
    "collapsed": false,
    "pycharm": {
     "name": "#%%\n"
    }
   }
  }
 ],
 "metadata": {
  "kernelspec": {
   "display_name": "Python 3",
   "language": "python",
   "name": "python3"
  },
  "language_info": {
   "codemirror_mode": {
    "name": "ipython",
    "version": 2
   },
   "file_extension": ".py",
   "mimetype": "text/x-python",
   "name": "python",
   "nbconvert_exporter": "python",
   "pygments_lexer": "ipython2",
   "version": "2.7.6"
  }
 },
 "nbformat": 4,
 "nbformat_minor": 0
}
